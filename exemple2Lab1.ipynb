{
 "cells": [
  {
   "cell_type": "code",
   "execution_count": 2,
   "metadata": {},
   "outputs": [
    {
     "name": "stdout",
     "output_type": "stream",
     "text": [
      "[5.196152422706632, 5.196152422706632, 5.196152422706632]\n"
     ]
    }
   ],
   "source": [
    "#EXERCICE A RENDRE\n",
    "\n",
    "#Créer une fonction calc_distance(point1, point2) qui calcule et retourne la distance entre\n",
    "#deux points contenus dans deux listes de points point1 et point2 passés en arguments.\n",
    "import math\n",
    "def my_map(func, arg1, arg2):\n",
    "    #input = arg1 et arg2\n",
    "    \"\"\"This will map the function 'func' to each pair of \n",
    "    arguments in the list 'arg1'and 'arg2', returning \n",
    "    the result\"\"\"\n",
    "    res = [] #output\n",
    "    for i , j in zip(arg1, arg2):\n",
    "        res.append(func(i,j))\n",
    "    return res\n",
    "points1 = [(1.0,1.0,1.0),(2.0,2.0,2.0),(3.0,3.0,3.0)]\n",
    "points2 = [(4.0,4.0,4.0),(5.0,5.0,5.0),(6.0,6.0,6.0)]\n",
    "def calc_distance(point1, point2):\n",
    "    # Extraire les coordonnées des points\n",
    "    x1, y1, z1 = point1\n",
    "    x2, y2, z2 = point2\n",
    "    \n",
    "    # Calculer la distance euclidienne en 3D\n",
    "    distance = math.sqrt((x2 - x1)**2 + (y2 - y1)**2 + (z2 - z1)**2)\n",
    "    \n",
    "    return distance\n",
    "distances = my_map(calc_distance, points1,points2)\n",
    "distances_str = str(distances)\n",
    "print(\"La distance est \"+distances_str)"
   ]
  }
 ],
 "metadata": {
  "kernelspec": {
   "display_name": "base",
   "language": "python",
   "name": "python3"
  },
  "language_info": {
   "codemirror_mode": {
    "name": "ipython",
    "version": 3
   },
   "file_extension": ".py",
   "mimetype": "text/x-python",
   "name": "python",
   "nbconvert_exporter": "python",
   "pygments_lexer": "ipython3",
   "version": "3.11.7"
  }
 },
 "nbformat": 4,
 "nbformat_minor": 2
}
